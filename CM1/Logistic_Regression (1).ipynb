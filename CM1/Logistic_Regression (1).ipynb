{
 "cells": [
  {
   "cell_type": "code",
   "execution_count": 1,
   "metadata": {},
   "outputs": [],
   "source": [
    "import pandas as pd\n",
    "import numpy as np\n",
    "import matplotlib.pyplot as plt\n",
    "%matplotlib inline"
   ]
  },
  {
   "cell_type": "code",
   "execution_count": 2,
   "metadata": {},
   "outputs": [
    {
     "data": {
      "text/html": [
       "<div>\n",
       "<style scoped>\n",
       "    .dataframe tbody tr th:only-of-type {\n",
       "        vertical-align: middle;\n",
       "    }\n",
       "\n",
       "    .dataframe tbody tr th {\n",
       "        vertical-align: top;\n",
       "    }\n",
       "\n",
       "    .dataframe thead th {\n",
       "        text-align: right;\n",
       "    }\n",
       "</style>\n",
       "<table border=\"1\" class=\"dataframe\">\n",
       "  <thead>\n",
       "    <tr style=\"text-align: right;\">\n",
       "      <th></th>\n",
       "      <th>McCabe's line count of code</th>\n",
       "      <th>McCabe \"cyclomatic complexity”</th>\n",
       "      <th>McCabe \"essential complexity”</th>\n",
       "      <th>McCabe \"design complexity”</th>\n",
       "      <th>Halstead total operators + operands</th>\n",
       "      <th>Halstead \"volume”</th>\n",
       "      <th>Halstead \"program length”</th>\n",
       "      <th>Halstead \"difficulty”</th>\n",
       "      <th>Halstead \"intelligence”</th>\n",
       "      <th>Halstead \"effort”</th>\n",
       "      <th>...</th>\n",
       "      <th>Halstead's line count</th>\n",
       "      <th>Halstead's count of lines of comments</th>\n",
       "      <th>Halstead's count of blank</th>\n",
       "      <th>lineslOCodeAndComment</th>\n",
       "      <th>unique operators</th>\n",
       "      <th>unique operands</th>\n",
       "      <th>total operators</th>\n",
       "      <th>total operands</th>\n",
       "      <th>branchCount of the flow graph</th>\n",
       "      <th>defects</th>\n",
       "    </tr>\n",
       "  </thead>\n",
       "  <tbody>\n",
       "    <tr>\n",
       "      <th>0</th>\n",
       "      <td>1.1</td>\n",
       "      <td>1.4</td>\n",
       "      <td>1.4</td>\n",
       "      <td>1.4</td>\n",
       "      <td>1.3</td>\n",
       "      <td>1.30</td>\n",
       "      <td>1.30</td>\n",
       "      <td>1.30</td>\n",
       "      <td>1.30</td>\n",
       "      <td>1.30</td>\n",
       "      <td>...</td>\n",
       "      <td>2</td>\n",
       "      <td>2</td>\n",
       "      <td>2</td>\n",
       "      <td>2</td>\n",
       "      <td>1.2</td>\n",
       "      <td>1.2</td>\n",
       "      <td>1.2</td>\n",
       "      <td>1.2</td>\n",
       "      <td>1.4</td>\n",
       "      <td>False</td>\n",
       "    </tr>\n",
       "    <tr>\n",
       "      <th>1</th>\n",
       "      <td>1.0</td>\n",
       "      <td>1.0</td>\n",
       "      <td>1.0</td>\n",
       "      <td>1.0</td>\n",
       "      <td>1.0</td>\n",
       "      <td>1.00</td>\n",
       "      <td>1.00</td>\n",
       "      <td>1.00</td>\n",
       "      <td>1.00</td>\n",
       "      <td>1.00</td>\n",
       "      <td>...</td>\n",
       "      <td>1</td>\n",
       "      <td>1</td>\n",
       "      <td>1</td>\n",
       "      <td>1</td>\n",
       "      <td>1.0</td>\n",
       "      <td>1.0</td>\n",
       "      <td>1.0</td>\n",
       "      <td>1.0</td>\n",
       "      <td>1.0</td>\n",
       "      <td>True</td>\n",
       "    </tr>\n",
       "    <tr>\n",
       "      <th>2</th>\n",
       "      <td>24.0</td>\n",
       "      <td>5.0</td>\n",
       "      <td>1.0</td>\n",
       "      <td>3.0</td>\n",
       "      <td>63.0</td>\n",
       "      <td>309.13</td>\n",
       "      <td>0.11</td>\n",
       "      <td>9.50</td>\n",
       "      <td>32.54</td>\n",
       "      <td>2936.77</td>\n",
       "      <td>...</td>\n",
       "      <td>1</td>\n",
       "      <td>0</td>\n",
       "      <td>6</td>\n",
       "      <td>0</td>\n",
       "      <td>15.0</td>\n",
       "      <td>15.0</td>\n",
       "      <td>44.0</td>\n",
       "      <td>19.0</td>\n",
       "      <td>9.0</td>\n",
       "      <td>False</td>\n",
       "    </tr>\n",
       "    <tr>\n",
       "      <th>3</th>\n",
       "      <td>20.0</td>\n",
       "      <td>4.0</td>\n",
       "      <td>4.0</td>\n",
       "      <td>2.0</td>\n",
       "      <td>47.0</td>\n",
       "      <td>215.49</td>\n",
       "      <td>0.06</td>\n",
       "      <td>16.00</td>\n",
       "      <td>13.47</td>\n",
       "      <td>3447.89</td>\n",
       "      <td>...</td>\n",
       "      <td>0</td>\n",
       "      <td>0</td>\n",
       "      <td>3</td>\n",
       "      <td>0</td>\n",
       "      <td>16.0</td>\n",
       "      <td>8.0</td>\n",
       "      <td>31.0</td>\n",
       "      <td>16.0</td>\n",
       "      <td>7.0</td>\n",
       "      <td>False</td>\n",
       "    </tr>\n",
       "    <tr>\n",
       "      <th>4</th>\n",
       "      <td>24.0</td>\n",
       "      <td>6.0</td>\n",
       "      <td>6.0</td>\n",
       "      <td>2.0</td>\n",
       "      <td>72.0</td>\n",
       "      <td>346.13</td>\n",
       "      <td>0.06</td>\n",
       "      <td>17.33</td>\n",
       "      <td>19.97</td>\n",
       "      <td>5999.58</td>\n",
       "      <td>...</td>\n",
       "      <td>0</td>\n",
       "      <td>0</td>\n",
       "      <td>3</td>\n",
       "      <td>0</td>\n",
       "      <td>16.0</td>\n",
       "      <td>12.0</td>\n",
       "      <td>46.0</td>\n",
       "      <td>26.0</td>\n",
       "      <td>11.0</td>\n",
       "      <td>False</td>\n",
       "    </tr>\n",
       "  </tbody>\n",
       "</table>\n",
       "<p>5 rows × 22 columns</p>\n",
       "</div>"
      ],
      "text/plain": [
       "   McCabe's line count of code  McCabe \"cyclomatic complexity”  \\\n",
       "0                          1.1                             1.4   \n",
       "1                          1.0                             1.0   \n",
       "2                         24.0                             5.0   \n",
       "3                         20.0                             4.0   \n",
       "4                         24.0                             6.0   \n",
       "\n",
       "   McCabe \"essential complexity”  McCabe \"design complexity”  \\\n",
       "0                            1.4                         1.4   \n",
       "1                            1.0                         1.0   \n",
       "2                            1.0                         3.0   \n",
       "3                            4.0                         2.0   \n",
       "4                            6.0                         2.0   \n",
       "\n",
       "   Halstead total operators + operands  Halstead \"volume”  \\\n",
       "0                                  1.3               1.30   \n",
       "1                                  1.0               1.00   \n",
       "2                                 63.0             309.13   \n",
       "3                                 47.0             215.49   \n",
       "4                                 72.0             346.13   \n",
       "\n",
       "   Halstead \"program length”  Halstead \"difficulty”  Halstead \"intelligence”  \\\n",
       "0                       1.30                   1.30                     1.30   \n",
       "1                       1.00                   1.00                     1.00   \n",
       "2                       0.11                   9.50                    32.54   \n",
       "3                       0.06                  16.00                    13.47   \n",
       "4                       0.06                  17.33                    19.97   \n",
       "\n",
       "   Halstead \"effort”  ...  Halstead's line count  \\\n",
       "0               1.30  ...                      2   \n",
       "1               1.00  ...                      1   \n",
       "2            2936.77  ...                      1   \n",
       "3            3447.89  ...                      0   \n",
       "4            5999.58  ...                      0   \n",
       "\n",
       "   Halstead's count of lines of comments  Halstead's count of blank  \\\n",
       "0                                      2                          2   \n",
       "1                                      1                          1   \n",
       "2                                      0                          6   \n",
       "3                                      0                          3   \n",
       "4                                      0                          3   \n",
       "\n",
       "   lineslOCodeAndComment  unique operators  unique operands  total operators  \\\n",
       "0                      2               1.2              1.2              1.2   \n",
       "1                      1               1.0              1.0              1.0   \n",
       "2                      0              15.0             15.0             44.0   \n",
       "3                      0              16.0              8.0             31.0   \n",
       "4                      0              16.0             12.0             46.0   \n",
       "\n",
       "   total operands  branchCount of the flow graph  defects  \n",
       "0             1.2                            1.4    False  \n",
       "1             1.0                            1.0     True  \n",
       "2            19.0                            9.0    False  \n",
       "3            16.0                            7.0    False  \n",
       "4            26.0                           11.0    False  \n",
       "\n",
       "[5 rows x 22 columns]"
      ]
     },
     "execution_count": 2,
     "metadata": {},
     "output_type": "execute_result"
    }
   ],
   "source": [
    "data1= pd.read_csv('cm1.csv')         #reading the dataset using pandas\n",
    "data1.head()                          #first 5 datapoints in the dataset"
   ]
  },
  {
   "cell_type": "markdown",
   "metadata": {},
   "source": [
    "As the defects column contains boolean values, multiplying it with 1 for binary classification"
   ]
  },
  {
   "cell_type": "code",
   "execution_count": 3,
   "metadata": {},
   "outputs": [],
   "source": [
    "data1.defects=data1['defects']*1       "
   ]
  },
  {
   "cell_type": "code",
   "execution_count": 4,
   "metadata": {},
   "outputs": [
    {
     "data": {
      "text/plain": [
       "0    0\n",
       "1    1\n",
       "2    0\n",
       "3    0\n",
       "4    0\n",
       "Name: defects, dtype: int32"
      ]
     },
     "execution_count": 4,
     "metadata": {},
     "output_type": "execute_result"
    }
   ],
   "source": [
    "data1['defects'].head()"
   ]
  },
  {
   "cell_type": "markdown",
   "metadata": {},
   "source": [
    "Taking last column (defects as y) and the remaining column as x"
   ]
  },
  {
   "cell_type": "code",
   "execution_count": 5,
   "metadata": {},
   "outputs": [],
   "source": [
    "X = data1.iloc[:,:-1]\n",
    "y = data1.iloc[:,-1]"
   ]
  },
  {
   "cell_type": "code",
   "execution_count": 6,
   "metadata": {},
   "outputs": [
    {
     "data": {
      "text/html": [
       "<div>\n",
       "<style scoped>\n",
       "    .dataframe tbody tr th:only-of-type {\n",
       "        vertical-align: middle;\n",
       "    }\n",
       "\n",
       "    .dataframe tbody tr th {\n",
       "        vertical-align: top;\n",
       "    }\n",
       "\n",
       "    .dataframe thead th {\n",
       "        text-align: right;\n",
       "    }\n",
       "</style>\n",
       "<table border=\"1\" class=\"dataframe\">\n",
       "  <thead>\n",
       "    <tr style=\"text-align: right;\">\n",
       "      <th></th>\n",
       "      <th>McCabe's line count of code</th>\n",
       "      <th>McCabe \"cyclomatic complexity”</th>\n",
       "      <th>McCabe \"essential complexity”</th>\n",
       "      <th>McCabe \"design complexity”</th>\n",
       "      <th>Halstead total operators + operands</th>\n",
       "      <th>Halstead \"volume”</th>\n",
       "      <th>Halstead \"program length”</th>\n",
       "      <th>Halstead \"difficulty”</th>\n",
       "      <th>Halstead \"intelligence”</th>\n",
       "      <th>Halstead \"effort”</th>\n",
       "      <th>...</th>\n",
       "      <th>Halstead's time estimator</th>\n",
       "      <th>Halstead's line count</th>\n",
       "      <th>Halstead's count of lines of comments</th>\n",
       "      <th>Halstead's count of blank</th>\n",
       "      <th>lineslOCodeAndComment</th>\n",
       "      <th>unique operators</th>\n",
       "      <th>unique operands</th>\n",
       "      <th>total operators</th>\n",
       "      <th>total operands</th>\n",
       "      <th>branchCount of the flow graph</th>\n",
       "    </tr>\n",
       "  </thead>\n",
       "  <tbody>\n",
       "    <tr>\n",
       "      <th>0</th>\n",
       "      <td>1.1</td>\n",
       "      <td>1.4</td>\n",
       "      <td>1.4</td>\n",
       "      <td>1.4</td>\n",
       "      <td>1.3</td>\n",
       "      <td>1.30</td>\n",
       "      <td>1.30</td>\n",
       "      <td>1.30</td>\n",
       "      <td>1.30</td>\n",
       "      <td>1.30</td>\n",
       "      <td>...</td>\n",
       "      <td>1.30</td>\n",
       "      <td>2</td>\n",
       "      <td>2</td>\n",
       "      <td>2</td>\n",
       "      <td>2</td>\n",
       "      <td>1.2</td>\n",
       "      <td>1.2</td>\n",
       "      <td>1.2</td>\n",
       "      <td>1.2</td>\n",
       "      <td>1.4</td>\n",
       "    </tr>\n",
       "    <tr>\n",
       "      <th>1</th>\n",
       "      <td>1.0</td>\n",
       "      <td>1.0</td>\n",
       "      <td>1.0</td>\n",
       "      <td>1.0</td>\n",
       "      <td>1.0</td>\n",
       "      <td>1.00</td>\n",
       "      <td>1.00</td>\n",
       "      <td>1.00</td>\n",
       "      <td>1.00</td>\n",
       "      <td>1.00</td>\n",
       "      <td>...</td>\n",
       "      <td>1.00</td>\n",
       "      <td>1</td>\n",
       "      <td>1</td>\n",
       "      <td>1</td>\n",
       "      <td>1</td>\n",
       "      <td>1.0</td>\n",
       "      <td>1.0</td>\n",
       "      <td>1.0</td>\n",
       "      <td>1.0</td>\n",
       "      <td>1.0</td>\n",
       "    </tr>\n",
       "    <tr>\n",
       "      <th>2</th>\n",
       "      <td>24.0</td>\n",
       "      <td>5.0</td>\n",
       "      <td>1.0</td>\n",
       "      <td>3.0</td>\n",
       "      <td>63.0</td>\n",
       "      <td>309.13</td>\n",
       "      <td>0.11</td>\n",
       "      <td>9.50</td>\n",
       "      <td>32.54</td>\n",
       "      <td>2936.77</td>\n",
       "      <td>...</td>\n",
       "      <td>163.15</td>\n",
       "      <td>1</td>\n",
       "      <td>0</td>\n",
       "      <td>6</td>\n",
       "      <td>0</td>\n",
       "      <td>15.0</td>\n",
       "      <td>15.0</td>\n",
       "      <td>44.0</td>\n",
       "      <td>19.0</td>\n",
       "      <td>9.0</td>\n",
       "    </tr>\n",
       "    <tr>\n",
       "      <th>3</th>\n",
       "      <td>20.0</td>\n",
       "      <td>4.0</td>\n",
       "      <td>4.0</td>\n",
       "      <td>2.0</td>\n",
       "      <td>47.0</td>\n",
       "      <td>215.49</td>\n",
       "      <td>0.06</td>\n",
       "      <td>16.00</td>\n",
       "      <td>13.47</td>\n",
       "      <td>3447.89</td>\n",
       "      <td>...</td>\n",
       "      <td>191.55</td>\n",
       "      <td>0</td>\n",
       "      <td>0</td>\n",
       "      <td>3</td>\n",
       "      <td>0</td>\n",
       "      <td>16.0</td>\n",
       "      <td>8.0</td>\n",
       "      <td>31.0</td>\n",
       "      <td>16.0</td>\n",
       "      <td>7.0</td>\n",
       "    </tr>\n",
       "    <tr>\n",
       "      <th>4</th>\n",
       "      <td>24.0</td>\n",
       "      <td>6.0</td>\n",
       "      <td>6.0</td>\n",
       "      <td>2.0</td>\n",
       "      <td>72.0</td>\n",
       "      <td>346.13</td>\n",
       "      <td>0.06</td>\n",
       "      <td>17.33</td>\n",
       "      <td>19.97</td>\n",
       "      <td>5999.58</td>\n",
       "      <td>...</td>\n",
       "      <td>333.31</td>\n",
       "      <td>0</td>\n",
       "      <td>0</td>\n",
       "      <td>3</td>\n",
       "      <td>0</td>\n",
       "      <td>16.0</td>\n",
       "      <td>12.0</td>\n",
       "      <td>46.0</td>\n",
       "      <td>26.0</td>\n",
       "      <td>11.0</td>\n",
       "    </tr>\n",
       "  </tbody>\n",
       "</table>\n",
       "<p>5 rows × 21 columns</p>\n",
       "</div>"
      ],
      "text/plain": [
       "   McCabe's line count of code  McCabe \"cyclomatic complexity”  \\\n",
       "0                          1.1                             1.4   \n",
       "1                          1.0                             1.0   \n",
       "2                         24.0                             5.0   \n",
       "3                         20.0                             4.0   \n",
       "4                         24.0                             6.0   \n",
       "\n",
       "   McCabe \"essential complexity”  McCabe \"design complexity”  \\\n",
       "0                            1.4                         1.4   \n",
       "1                            1.0                         1.0   \n",
       "2                            1.0                         3.0   \n",
       "3                            4.0                         2.0   \n",
       "4                            6.0                         2.0   \n",
       "\n",
       "   Halstead total operators + operands  Halstead \"volume”  \\\n",
       "0                                  1.3               1.30   \n",
       "1                                  1.0               1.00   \n",
       "2                                 63.0             309.13   \n",
       "3                                 47.0             215.49   \n",
       "4                                 72.0             346.13   \n",
       "\n",
       "   Halstead \"program length”  Halstead \"difficulty”  Halstead \"intelligence”  \\\n",
       "0                       1.30                   1.30                     1.30   \n",
       "1                       1.00                   1.00                     1.00   \n",
       "2                       0.11                   9.50                    32.54   \n",
       "3                       0.06                  16.00                    13.47   \n",
       "4                       0.06                  17.33                    19.97   \n",
       "\n",
       "   Halstead \"effort”  ...  Halstead's time estimator  Halstead's line count  \\\n",
       "0               1.30  ...                       1.30                      2   \n",
       "1               1.00  ...                       1.00                      1   \n",
       "2            2936.77  ...                     163.15                      1   \n",
       "3            3447.89  ...                     191.55                      0   \n",
       "4            5999.58  ...                     333.31                      0   \n",
       "\n",
       "   Halstead's count of lines of comments  Halstead's count of blank  \\\n",
       "0                                      2                          2   \n",
       "1                                      1                          1   \n",
       "2                                      0                          6   \n",
       "3                                      0                          3   \n",
       "4                                      0                          3   \n",
       "\n",
       "   lineslOCodeAndComment  unique operators  unique operands  total operators  \\\n",
       "0                      2               1.2              1.2              1.2   \n",
       "1                      1               1.0              1.0              1.0   \n",
       "2                      0              15.0             15.0             44.0   \n",
       "3                      0              16.0              8.0             31.0   \n",
       "4                      0              16.0             12.0             46.0   \n",
       "\n",
       "   total operands  branchCount of the flow graph  \n",
       "0             1.2                            1.4  \n",
       "1             1.0                            1.0  \n",
       "2            19.0                            9.0  \n",
       "3            16.0                            7.0  \n",
       "4            26.0                           11.0  \n",
       "\n",
       "[5 rows x 21 columns]"
      ]
     },
     "execution_count": 6,
     "metadata": {},
     "output_type": "execute_result"
    }
   ],
   "source": [
    "X.head()"
   ]
  },
  {
   "cell_type": "code",
   "execution_count": 7,
   "metadata": {},
   "outputs": [
    {
     "data": {
      "text/plain": [
       "0    0\n",
       "1    1\n",
       "2    0\n",
       "3    0\n",
       "4    0\n",
       "Name: defects, dtype: int32"
      ]
     },
     "execution_count": 7,
     "metadata": {},
     "output_type": "execute_result"
    }
   ],
   "source": [
    "y.head()"
   ]
  },
  {
   "cell_type": "code",
   "execution_count": 8,
   "metadata": {},
   "outputs": [
    {
     "data": {
      "text/plain": [
       "0    449\n",
       "1     49\n",
       "Name: defects, dtype: int64"
      ]
     },
     "execution_count": 8,
     "metadata": {},
     "output_type": "execute_result"
    }
   ],
   "source": [
    "y.value_counts()"
   ]
  },
  {
   "cell_type": "markdown",
   "metadata": {},
   "source": [
    "As number of non+defect classes are more, using SMOTE for imblearn library to handle data imbalance"
   ]
  },
  {
   "cell_type": "code",
   "execution_count": 9,
   "metadata": {},
   "outputs": [],
   "source": [
    "from imblearn.over_sampling import SMOTE\n",
    "smote = SMOTE(sampling_strategy='minority')\n",
    "X_sm , y_sm = smote.fit_resample(X,y)"
   ]
  },
  {
   "cell_type": "code",
   "execution_count": 10,
   "metadata": {},
   "outputs": [
    {
     "data": {
      "text/plain": [
       "1    449\n",
       "0    449\n",
       "Name: defects, dtype: int64"
      ]
     },
     "execution_count": 10,
     "metadata": {},
     "output_type": "execute_result"
    }
   ],
   "source": [
    "y_sm.value_counts()"
   ]
  },
  {
   "cell_type": "markdown",
   "metadata": {},
   "source": [
    "Splitting the data into train and test"
   ]
  },
  {
   "cell_type": "code",
   "execution_count": 11,
   "metadata": {},
   "outputs": [],
   "source": [
    "from sklearn.model_selection import train_test_split\n",
    "X_train,X_test,y_train,y_test = train_test_split(X_sm,y_sm,test_size=0.2,random_state=0)"
   ]
  },
  {
   "cell_type": "markdown",
   "metadata": {},
   "source": [
    "AS the data is not scaled, using standardscaler to scale the data "
   ]
  },
  {
   "cell_type": "code",
   "execution_count": 12,
   "metadata": {},
   "outputs": [],
   "source": [
    "from sklearn.preprocessing import StandardScaler\n",
    "SC = StandardScaler()\n",
    "X_train = SC.fit_transform(X_train)\n",
    "X_test = SC.transform(X_test)"
   ]
  },
  {
   "cell_type": "code",
   "execution_count": 13,
   "metadata": {},
   "outputs": [
    {
     "data": {
      "text/plain": [
       "array([[-0.5763378 , -0.49972173, -0.46720917, ..., -0.64358069,\n",
       "        -0.67262876, -0.50248345],\n",
       "       [-0.23721374, -0.22097186,  0.51256616, ..., -0.30505766,\n",
       "        -0.18832732, -0.20176013],\n",
       "       [-0.05247749,  0.0871068 ,  0.75751   , ..., -0.04493448,\n",
       "        -0.1290251 ,  0.13060394],\n",
       "       ...,\n",
       "       [-0.36652912,  0.18979969, -0.46720917, ..., -0.56518083,\n",
       "        -0.43541989,  0.24139196],\n",
       "       [ 0.81578289,  1.21672858,  1.4923415 , ...,  1.00190267,\n",
       "         1.25469329,  1.34927218],\n",
       "       [ 0.03760398,  0.01405615, -0.46720917, ...,  0.1561268 ,\n",
       "         0.28833415,  0.03580536]])"
      ]
     },
     "execution_count": 13,
     "metadata": {},
     "output_type": "execute_result"
    }
   ],
   "source": [
    "X_test"
   ]
  },
  {
   "cell_type": "markdown",
   "metadata": {},
   "source": [
    "Importing Logistic regression "
   ]
  },
  {
   "cell_type": "code",
   "execution_count": 14,
   "metadata": {},
   "outputs": [
    {
     "data": {
      "text/plain": [
       "LogisticRegression(random_state=0)"
      ]
     },
     "execution_count": 14,
     "metadata": {},
     "output_type": "execute_result"
    }
   ],
   "source": [
    "from sklearn.linear_model import LogisticRegression\n",
    "LR = LogisticRegression(random_state=0)\n",
    "LR.fit(X_train,y_train)"
   ]
  },
  {
   "cell_type": "markdown",
   "metadata": {},
   "source": [
    "predciting the y values for x test unding logistic regression"
   ]
  },
  {
   "cell_type": "code",
   "execution_count": 15,
   "metadata": {},
   "outputs": [],
   "source": [
    "LR_pred = LR.predict(X_test)"
   ]
  },
  {
   "cell_type": "code",
   "execution_count": 16,
   "metadata": {},
   "outputs": [
    {
     "data": {
      "text/plain": [
       "array([0, 0, 1, 1, 0, 1, 1, 0, 1, 1, 1, 0, 0, 0, 1, 1, 0, 0, 0, 1, 1, 1,\n",
       "       1, 0, 0, 1, 1, 0, 0, 1, 1, 0, 1, 1, 1, 1, 1, 1, 1, 0, 1, 0, 1, 1,\n",
       "       0, 0, 1, 1, 1, 0, 1, 0, 0, 1, 0, 0, 1, 0, 0, 1, 0, 0, 0, 1, 0, 1,\n",
       "       1, 1, 0, 0, 0, 0, 1, 1, 1, 0, 0, 0, 1, 1, 0, 0, 1, 0, 1, 1, 0, 0,\n",
       "       0, 1, 1, 1, 0, 0, 1, 0, 1, 0, 1, 0, 1, 1, 1, 0, 1, 1, 1, 0, 1, 0,\n",
       "       0, 1, 1, 0, 0, 1, 1, 0, 0, 1, 0, 1, 0, 0, 0, 0, 0, 1, 1, 0, 1, 1,\n",
       "       0, 0, 1, 1, 1, 0, 0, 0, 1, 0, 1, 0, 1, 1, 0, 0, 1, 1, 0, 0, 1, 1,\n",
       "       1, 0, 1, 1, 1, 1, 0, 1, 0, 0, 0, 1, 0, 0, 0, 0, 1, 0, 1, 0, 0, 0,\n",
       "       0, 0, 1, 1])"
      ]
     },
     "execution_count": 16,
     "metadata": {},
     "output_type": "execute_result"
    }
   ],
   "source": [
    "LR_pred"
   ]
  },
  {
   "cell_type": "markdown",
   "metadata": {},
   "source": [
    "Evaluation metrics"
   ]
  },
  {
   "cell_type": "code",
   "execution_count": 17,
   "metadata": {},
   "outputs": [],
   "source": [
    "from sklearn.metrics import accuracy_score\n",
    "from sklearn.metrics import confusion_matrix\n",
    "from sklearn.metrics import f1_score\n",
    "from sklearn.metrics import roc_auc_score\n",
    "from sklearn.metrics import precision_score\n",
    "from sklearn.metrics import recall_score"
   ]
  },
  {
   "cell_type": "code",
   "execution_count": 18,
   "metadata": {},
   "outputs": [
    {
     "data": {
      "text/plain": [
       "array([[69, 17],\n",
       "       [20, 74]], dtype=int64)"
      ]
     },
     "execution_count": 18,
     "metadata": {},
     "output_type": "execute_result"
    }
   ],
   "source": [
    "CM = confusion_matrix(y_test,LR_pred)\n",
    "CM"
   ]
  },
  {
   "cell_type": "code",
   "execution_count": 19,
   "metadata": {},
   "outputs": [
    {
     "name": "stdout",
     "output_type": "stream",
     "text": [
      "Accuracy score: 0.7944444444444444\n",
      "F1_score: 0.7999999999999999\n",
      "precision_score: 0.8131868131868132\n",
      "recall_score: 0.7872340425531915\n"
     ]
    }
   ],
   "source": [
    "print('Accuracy score:',accuracy_score(y_test,LR_pred))\n",
    "print('F1_score:',f1_score(y_test,LR_pred))\n",
    "print('precision_score:',precision_score(y_test,LR_pred))\n",
    "print('recall_score:',recall_score(y_test,LR_pred))"
   ]
  },
  {
   "cell_type": "code",
   "execution_count": null,
   "metadata": {
    "scrolled": true
   },
   "outputs": [],
   "source": []
  },
  {
   "cell_type": "code",
   "execution_count": null,
   "metadata": {},
   "outputs": [],
   "source": []
  },
  {
   "cell_type": "code",
   "execution_count": null,
   "metadata": {},
   "outputs": [],
   "source": []
  },
  {
   "cell_type": "code",
   "execution_count": null,
   "metadata": {},
   "outputs": [],
   "source": []
  },
  {
   "cell_type": "code",
   "execution_count": null,
   "metadata": {},
   "outputs": [],
   "source": []
  }
 ],
 "metadata": {
  "kernelspec": {
   "display_name": "Python 3",
   "language": "python",
   "name": "python3"
  },
  "language_info": {
   "codemirror_mode": {
    "name": "ipython",
    "version": 3
   },
   "file_extension": ".py",
   "mimetype": "text/x-python",
   "name": "python",
   "nbconvert_exporter": "python",
   "pygments_lexer": "ipython3",
   "version": "3.8.5"
  }
 },
 "nbformat": 4,
 "nbformat_minor": 4
}
