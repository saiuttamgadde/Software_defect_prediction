{
 "cells": [
  {
   "cell_type": "code",
   "execution_count": 1,
   "metadata": {},
   "outputs": [],
   "source": [
    "import pandas as pd\n",
    "import numpy as np\n",
    "import matplotlib.pyplot as plt\n",
    "%matplotlib inline"
   ]
  },
  {
   "cell_type": "code",
   "execution_count": 2,
   "metadata": {},
   "outputs": [
    {
     "data": {
      "text/html": [
       "<div>\n",
       "<style scoped>\n",
       "    .dataframe tbody tr th:only-of-type {\n",
       "        vertical-align: middle;\n",
       "    }\n",
       "\n",
       "    .dataframe tbody tr th {\n",
       "        vertical-align: top;\n",
       "    }\n",
       "\n",
       "    .dataframe thead th {\n",
       "        text-align: right;\n",
       "    }\n",
       "</style>\n",
       "<table border=\"1\" class=\"dataframe\">\n",
       "  <thead>\n",
       "    <tr style=\"text-align: right;\">\n",
       "      <th></th>\n",
       "      <th>McCabe's line count of code</th>\n",
       "      <th>McCabe \"cyclomatic complexity”</th>\n",
       "      <th>McCabe \"essential complexity”</th>\n",
       "      <th>McCabe \"design complexity”</th>\n",
       "      <th>Halstead total operators + operands</th>\n",
       "      <th>Halstead \"volume”</th>\n",
       "      <th>Halstead \"program length”</th>\n",
       "      <th>Halstead \"difficulty”</th>\n",
       "      <th>Halstead \"intelligence”</th>\n",
       "      <th>Halstead \"effort”</th>\n",
       "      <th>...</th>\n",
       "      <th>Halstead's line count</th>\n",
       "      <th>Halstead's count of lines of comments</th>\n",
       "      <th>Halstead's count of blank</th>\n",
       "      <th>lineslOCodeAndComment</th>\n",
       "      <th>unique operators</th>\n",
       "      <th>unique operands</th>\n",
       "      <th>total operators</th>\n",
       "      <th>total operands</th>\n",
       "      <th>branchCount of the flow graph</th>\n",
       "      <th>defects</th>\n",
       "    </tr>\n",
       "  </thead>\n",
       "  <tbody>\n",
       "    <tr>\n",
       "      <th>0</th>\n",
       "      <td>1.1</td>\n",
       "      <td>1.4</td>\n",
       "      <td>1.4</td>\n",
       "      <td>1.4</td>\n",
       "      <td>1.3</td>\n",
       "      <td>1.30</td>\n",
       "      <td>1.30</td>\n",
       "      <td>1.30</td>\n",
       "      <td>1.30</td>\n",
       "      <td>1.30</td>\n",
       "      <td>...</td>\n",
       "      <td>2</td>\n",
       "      <td>2</td>\n",
       "      <td>2</td>\n",
       "      <td>2</td>\n",
       "      <td>1.2</td>\n",
       "      <td>1.2</td>\n",
       "      <td>1.2</td>\n",
       "      <td>1.2</td>\n",
       "      <td>1.4</td>\n",
       "      <td>no</td>\n",
       "    </tr>\n",
       "    <tr>\n",
       "      <th>1</th>\n",
       "      <td>1.0</td>\n",
       "      <td>1.0</td>\n",
       "      <td>1.0</td>\n",
       "      <td>1.0</td>\n",
       "      <td>1.0</td>\n",
       "      <td>1.00</td>\n",
       "      <td>1.00</td>\n",
       "      <td>1.00</td>\n",
       "      <td>1.00</td>\n",
       "      <td>1.00</td>\n",
       "      <td>...</td>\n",
       "      <td>1</td>\n",
       "      <td>1</td>\n",
       "      <td>1</td>\n",
       "      <td>1</td>\n",
       "      <td>1.0</td>\n",
       "      <td>1.0</td>\n",
       "      <td>1.0</td>\n",
       "      <td>1.0</td>\n",
       "      <td>1.0</td>\n",
       "      <td>yes</td>\n",
       "    </tr>\n",
       "    <tr>\n",
       "      <th>2</th>\n",
       "      <td>415.0</td>\n",
       "      <td>59.0</td>\n",
       "      <td>50.0</td>\n",
       "      <td>51.0</td>\n",
       "      <td>1159.0</td>\n",
       "      <td>8411.31</td>\n",
       "      <td>0.01</td>\n",
       "      <td>103.53</td>\n",
       "      <td>81.24</td>\n",
       "      <td>870848.58</td>\n",
       "      <td>...</td>\n",
       "      <td>359</td>\n",
       "      <td>35</td>\n",
       "      <td>9</td>\n",
       "      <td>10</td>\n",
       "      <td>47.0</td>\n",
       "      <td>106.0</td>\n",
       "      <td>692.0</td>\n",
       "      <td>467.0</td>\n",
       "      <td>106.0</td>\n",
       "      <td>yes</td>\n",
       "    </tr>\n",
       "    <tr>\n",
       "      <th>3</th>\n",
       "      <td>230.0</td>\n",
       "      <td>33.0</td>\n",
       "      <td>10.0</td>\n",
       "      <td>16.0</td>\n",
       "      <td>575.0</td>\n",
       "      <td>3732.82</td>\n",
       "      <td>0.03</td>\n",
       "      <td>39.82</td>\n",
       "      <td>93.74</td>\n",
       "      <td>148644.06</td>\n",
       "      <td>...</td>\n",
       "      <td>174</td>\n",
       "      <td>15</td>\n",
       "      <td>34</td>\n",
       "      <td>5</td>\n",
       "      <td>23.0</td>\n",
       "      <td>67.0</td>\n",
       "      <td>343.0</td>\n",
       "      <td>232.0</td>\n",
       "      <td>65.0</td>\n",
       "      <td>yes</td>\n",
       "    </tr>\n",
       "    <tr>\n",
       "      <th>4</th>\n",
       "      <td>175.0</td>\n",
       "      <td>26.0</td>\n",
       "      <td>12.0</td>\n",
       "      <td>13.0</td>\n",
       "      <td>500.0</td>\n",
       "      <td>3123.96</td>\n",
       "      <td>0.03</td>\n",
       "      <td>29.48</td>\n",
       "      <td>105.96</td>\n",
       "      <td>92103.07</td>\n",
       "      <td>...</td>\n",
       "      <td>142</td>\n",
       "      <td>7</td>\n",
       "      <td>19</td>\n",
       "      <td>4</td>\n",
       "      <td>18.0</td>\n",
       "      <td>58.0</td>\n",
       "      <td>310.0</td>\n",
       "      <td>190.0</td>\n",
       "      <td>51.0</td>\n",
       "      <td>yes</td>\n",
       "    </tr>\n",
       "  </tbody>\n",
       "</table>\n",
       "<p>5 rows × 22 columns</p>\n",
       "</div>"
      ],
      "text/plain": [
       "   McCabe's line count of code  McCabe \"cyclomatic complexity”  \\\n",
       "0                          1.1                             1.4   \n",
       "1                          1.0                             1.0   \n",
       "2                        415.0                            59.0   \n",
       "3                        230.0                            33.0   \n",
       "4                        175.0                            26.0   \n",
       "\n",
       "   McCabe \"essential complexity”  McCabe \"design complexity”  \\\n",
       "0                            1.4                         1.4   \n",
       "1                            1.0                         1.0   \n",
       "2                           50.0                        51.0   \n",
       "3                           10.0                        16.0   \n",
       "4                           12.0                        13.0   \n",
       "\n",
       "   Halstead total operators + operands  Halstead \"volume”  \\\n",
       "0                                  1.3               1.30   \n",
       "1                                  1.0               1.00   \n",
       "2                               1159.0            8411.31   \n",
       "3                                575.0            3732.82   \n",
       "4                                500.0            3123.96   \n",
       "\n",
       "   Halstead \"program length”  Halstead \"difficulty”  Halstead \"intelligence”  \\\n",
       "0                       1.30                   1.30                     1.30   \n",
       "1                       1.00                   1.00                     1.00   \n",
       "2                       0.01                 103.53                    81.24   \n",
       "3                       0.03                  39.82                    93.74   \n",
       "4                       0.03                  29.48                   105.96   \n",
       "\n",
       "   Halstead \"effort”  ...  Halstead's line count  \\\n",
       "0               1.30  ...                      2   \n",
       "1               1.00  ...                      1   \n",
       "2          870848.58  ...                    359   \n",
       "3          148644.06  ...                    174   \n",
       "4           92103.07  ...                    142   \n",
       "\n",
       "   Halstead's count of lines of comments  Halstead's count of blank  \\\n",
       "0                                      2                          2   \n",
       "1                                      1                          1   \n",
       "2                                     35                          9   \n",
       "3                                     15                         34   \n",
       "4                                      7                         19   \n",
       "\n",
       "   lineslOCodeAndComment  unique operators  unique operands  total operators  \\\n",
       "0                      2               1.2              1.2              1.2   \n",
       "1                      1               1.0              1.0              1.0   \n",
       "2                     10              47.0            106.0            692.0   \n",
       "3                      5              23.0             67.0            343.0   \n",
       "4                      4              18.0             58.0            310.0   \n",
       "\n",
       "   total operands  branchCount of the flow graph  defects  \n",
       "0             1.2                            1.4       no  \n",
       "1             1.0                            1.0      yes  \n",
       "2           467.0                          106.0      yes  \n",
       "3           232.0                           65.0      yes  \n",
       "4           190.0                           51.0      yes  \n",
       "\n",
       "[5 rows x 22 columns]"
      ]
     },
     "execution_count": 2,
     "metadata": {},
     "output_type": "execute_result"
    }
   ],
   "source": [
    "data1= pd.read_csv(r'C:\\Users\\srivi\\OneDrive\\Documents\\Software Defect Prediction\\Code-kc2\\kc2.csv')         #reading the dataset using pandas\n",
    "data1.head()                          #first 5 datapoints in the dataset"
   ]
  },
  {
   "cell_type": "markdown",
   "metadata": {},
   "source": [
    "As the defects column contains boolean values, multiplying it with 1 for binary classification"
   ]
  },
  {
   "cell_type": "code",
   "execution_count": 3,
   "metadata": {},
   "outputs": [],
   "source": [
    "data1.defects=data1['defects']*1       "
   ]
  },
  {
   "cell_type": "code",
   "execution_count": 4,
   "metadata": {},
   "outputs": [
    {
     "data": {
      "text/plain": [
       "0     no\n",
       "1    yes\n",
       "2    yes\n",
       "3    yes\n",
       "4    yes\n",
       "Name: defects, dtype: object"
      ]
     },
     "execution_count": 4,
     "metadata": {},
     "output_type": "execute_result"
    }
   ],
   "source": [
    "data1['defects'].head()"
   ]
  },
  {
   "cell_type": "markdown",
   "metadata": {},
   "source": [
    "Taking last column (defects as y) and the remaining column as x"
   ]
  },
  {
   "cell_type": "code",
   "execution_count": 5,
   "metadata": {},
   "outputs": [],
   "source": [
    "X = data1.iloc[:,:-1]\n",
    "y = data1.iloc[:,-1]"
   ]
  },
  {
   "cell_type": "code",
   "execution_count": 6,
   "metadata": {},
   "outputs": [
    {
     "data": {
      "text/html": [
       "<div>\n",
       "<style scoped>\n",
       "    .dataframe tbody tr th:only-of-type {\n",
       "        vertical-align: middle;\n",
       "    }\n",
       "\n",
       "    .dataframe tbody tr th {\n",
       "        vertical-align: top;\n",
       "    }\n",
       "\n",
       "    .dataframe thead th {\n",
       "        text-align: right;\n",
       "    }\n",
       "</style>\n",
       "<table border=\"1\" class=\"dataframe\">\n",
       "  <thead>\n",
       "    <tr style=\"text-align: right;\">\n",
       "      <th></th>\n",
       "      <th>McCabe's line count of code</th>\n",
       "      <th>McCabe \"cyclomatic complexity”</th>\n",
       "      <th>McCabe \"essential complexity”</th>\n",
       "      <th>McCabe \"design complexity”</th>\n",
       "      <th>Halstead total operators + operands</th>\n",
       "      <th>Halstead \"volume”</th>\n",
       "      <th>Halstead \"program length”</th>\n",
       "      <th>Halstead \"difficulty”</th>\n",
       "      <th>Halstead \"intelligence”</th>\n",
       "      <th>Halstead \"effort”</th>\n",
       "      <th>...</th>\n",
       "      <th>Halstead's time estimator</th>\n",
       "      <th>Halstead's line count</th>\n",
       "      <th>Halstead's count of lines of comments</th>\n",
       "      <th>Halstead's count of blank</th>\n",
       "      <th>lineslOCodeAndComment</th>\n",
       "      <th>unique operators</th>\n",
       "      <th>unique operands</th>\n",
       "      <th>total operators</th>\n",
       "      <th>total operands</th>\n",
       "      <th>branchCount of the flow graph</th>\n",
       "    </tr>\n",
       "  </thead>\n",
       "  <tbody>\n",
       "    <tr>\n",
       "      <th>0</th>\n",
       "      <td>1.1</td>\n",
       "      <td>1.4</td>\n",
       "      <td>1.4</td>\n",
       "      <td>1.4</td>\n",
       "      <td>1.3</td>\n",
       "      <td>1.30</td>\n",
       "      <td>1.30</td>\n",
       "      <td>1.30</td>\n",
       "      <td>1.30</td>\n",
       "      <td>1.30</td>\n",
       "      <td>...</td>\n",
       "      <td>1.30</td>\n",
       "      <td>2</td>\n",
       "      <td>2</td>\n",
       "      <td>2</td>\n",
       "      <td>2</td>\n",
       "      <td>1.2</td>\n",
       "      <td>1.2</td>\n",
       "      <td>1.2</td>\n",
       "      <td>1.2</td>\n",
       "      <td>1.4</td>\n",
       "    </tr>\n",
       "    <tr>\n",
       "      <th>1</th>\n",
       "      <td>1.0</td>\n",
       "      <td>1.0</td>\n",
       "      <td>1.0</td>\n",
       "      <td>1.0</td>\n",
       "      <td>1.0</td>\n",
       "      <td>1.00</td>\n",
       "      <td>1.00</td>\n",
       "      <td>1.00</td>\n",
       "      <td>1.00</td>\n",
       "      <td>1.00</td>\n",
       "      <td>...</td>\n",
       "      <td>1.00</td>\n",
       "      <td>1</td>\n",
       "      <td>1</td>\n",
       "      <td>1</td>\n",
       "      <td>1</td>\n",
       "      <td>1.0</td>\n",
       "      <td>1.0</td>\n",
       "      <td>1.0</td>\n",
       "      <td>1.0</td>\n",
       "      <td>1.0</td>\n",
       "    </tr>\n",
       "    <tr>\n",
       "      <th>2</th>\n",
       "      <td>415.0</td>\n",
       "      <td>59.0</td>\n",
       "      <td>50.0</td>\n",
       "      <td>51.0</td>\n",
       "      <td>1159.0</td>\n",
       "      <td>8411.31</td>\n",
       "      <td>0.01</td>\n",
       "      <td>103.53</td>\n",
       "      <td>81.24</td>\n",
       "      <td>870848.58</td>\n",
       "      <td>...</td>\n",
       "      <td>48380.48</td>\n",
       "      <td>359</td>\n",
       "      <td>35</td>\n",
       "      <td>9</td>\n",
       "      <td>10</td>\n",
       "      <td>47.0</td>\n",
       "      <td>106.0</td>\n",
       "      <td>692.0</td>\n",
       "      <td>467.0</td>\n",
       "      <td>106.0</td>\n",
       "    </tr>\n",
       "    <tr>\n",
       "      <th>3</th>\n",
       "      <td>230.0</td>\n",
       "      <td>33.0</td>\n",
       "      <td>10.0</td>\n",
       "      <td>16.0</td>\n",
       "      <td>575.0</td>\n",
       "      <td>3732.82</td>\n",
       "      <td>0.03</td>\n",
       "      <td>39.82</td>\n",
       "      <td>93.74</td>\n",
       "      <td>148644.06</td>\n",
       "      <td>...</td>\n",
       "      <td>8258.00</td>\n",
       "      <td>174</td>\n",
       "      <td>15</td>\n",
       "      <td>34</td>\n",
       "      <td>5</td>\n",
       "      <td>23.0</td>\n",
       "      <td>67.0</td>\n",
       "      <td>343.0</td>\n",
       "      <td>232.0</td>\n",
       "      <td>65.0</td>\n",
       "    </tr>\n",
       "    <tr>\n",
       "      <th>4</th>\n",
       "      <td>175.0</td>\n",
       "      <td>26.0</td>\n",
       "      <td>12.0</td>\n",
       "      <td>13.0</td>\n",
       "      <td>500.0</td>\n",
       "      <td>3123.96</td>\n",
       "      <td>0.03</td>\n",
       "      <td>29.48</td>\n",
       "      <td>105.96</td>\n",
       "      <td>92103.07</td>\n",
       "      <td>...</td>\n",
       "      <td>5116.84</td>\n",
       "      <td>142</td>\n",
       "      <td>7</td>\n",
       "      <td>19</td>\n",
       "      <td>4</td>\n",
       "      <td>18.0</td>\n",
       "      <td>58.0</td>\n",
       "      <td>310.0</td>\n",
       "      <td>190.0</td>\n",
       "      <td>51.0</td>\n",
       "    </tr>\n",
       "  </tbody>\n",
       "</table>\n",
       "<p>5 rows × 21 columns</p>\n",
       "</div>"
      ],
      "text/plain": [
       "   McCabe's line count of code  McCabe \"cyclomatic complexity”  \\\n",
       "0                          1.1                             1.4   \n",
       "1                          1.0                             1.0   \n",
       "2                        415.0                            59.0   \n",
       "3                        230.0                            33.0   \n",
       "4                        175.0                            26.0   \n",
       "\n",
       "   McCabe \"essential complexity”  McCabe \"design complexity”  \\\n",
       "0                            1.4                         1.4   \n",
       "1                            1.0                         1.0   \n",
       "2                           50.0                        51.0   \n",
       "3                           10.0                        16.0   \n",
       "4                           12.0                        13.0   \n",
       "\n",
       "   Halstead total operators + operands  Halstead \"volume”  \\\n",
       "0                                  1.3               1.30   \n",
       "1                                  1.0               1.00   \n",
       "2                               1159.0            8411.31   \n",
       "3                                575.0            3732.82   \n",
       "4                                500.0            3123.96   \n",
       "\n",
       "   Halstead \"program length”  Halstead \"difficulty”  Halstead \"intelligence”  \\\n",
       "0                       1.30                   1.30                     1.30   \n",
       "1                       1.00                   1.00                     1.00   \n",
       "2                       0.01                 103.53                    81.24   \n",
       "3                       0.03                  39.82                    93.74   \n",
       "4                       0.03                  29.48                   105.96   \n",
       "\n",
       "   Halstead \"effort”  ...  Halstead's time estimator  Halstead's line count  \\\n",
       "0               1.30  ...                       1.30                      2   \n",
       "1               1.00  ...                       1.00                      1   \n",
       "2          870848.58  ...                   48380.48                    359   \n",
       "3          148644.06  ...                    8258.00                    174   \n",
       "4           92103.07  ...                    5116.84                    142   \n",
       "\n",
       "   Halstead's count of lines of comments  Halstead's count of blank  \\\n",
       "0                                      2                          2   \n",
       "1                                      1                          1   \n",
       "2                                     35                          9   \n",
       "3                                     15                         34   \n",
       "4                                      7                         19   \n",
       "\n",
       "   lineslOCodeAndComment  unique operators  unique operands  total operators  \\\n",
       "0                      2               1.2              1.2              1.2   \n",
       "1                      1               1.0              1.0              1.0   \n",
       "2                     10              47.0            106.0            692.0   \n",
       "3                      5              23.0             67.0            343.0   \n",
       "4                      4              18.0             58.0            310.0   \n",
       "\n",
       "   total operands  branchCount of the flow graph  \n",
       "0             1.2                            1.4  \n",
       "1             1.0                            1.0  \n",
       "2           467.0                          106.0  \n",
       "3           232.0                           65.0  \n",
       "4           190.0                           51.0  \n",
       "\n",
       "[5 rows x 21 columns]"
      ]
     },
     "execution_count": 6,
     "metadata": {},
     "output_type": "execute_result"
    }
   ],
   "source": [
    "X.head()"
   ]
  },
  {
   "cell_type": "code",
   "execution_count": 7,
   "metadata": {},
   "outputs": [
    {
     "data": {
      "text/plain": [
       "0     no\n",
       "1    yes\n",
       "2    yes\n",
       "3    yes\n",
       "4    yes\n",
       "Name: defects, dtype: object"
      ]
     },
     "execution_count": 7,
     "metadata": {},
     "output_type": "execute_result"
    }
   ],
   "source": [
    "y.head()"
   ]
  },
  {
   "cell_type": "code",
   "execution_count": 8,
   "metadata": {},
   "outputs": [
    {
     "data": {
      "text/plain": [
       "no     415\n",
       "yes    107\n",
       "Name: defects, dtype: int64"
      ]
     },
     "execution_count": 8,
     "metadata": {},
     "output_type": "execute_result"
    }
   ],
   "source": [
    "y.value_counts()"
   ]
  },
  {
   "cell_type": "markdown",
   "metadata": {},
   "source": [
    "As number of non+defect classes are more, using SMOTE for imblearn library to handle data imbalance"
   ]
  },
  {
   "cell_type": "code",
   "execution_count": 9,
   "metadata": {},
   "outputs": [],
   "source": [
    "from imblearn.over_sampling import SMOTE\n",
    "smote = SMOTE(sampling_strategy='minority')\n",
    "X_sm , y_sm = smote.fit_resample(X,y)"
   ]
  },
  {
   "cell_type": "code",
   "execution_count": 10,
   "metadata": {},
   "outputs": [
    {
     "data": {
      "text/plain": [
       "yes    415\n",
       "no     415\n",
       "Name: defects, dtype: int64"
      ]
     },
     "execution_count": 10,
     "metadata": {},
     "output_type": "execute_result"
    }
   ],
   "source": [
    "y_sm.value_counts()"
   ]
  },
  {
   "cell_type": "markdown",
   "metadata": {},
   "source": [
    "Splitting the data into train and test"
   ]
  },
  {
   "cell_type": "code",
   "execution_count": 11,
   "metadata": {},
   "outputs": [],
   "source": [
    "from sklearn.model_selection import train_test_split\n",
    "X_train,X_test,y_train,y_test = train_test_split(X_sm,y_sm,test_size=0.2,random_state=0)"
   ]
  },
  {
   "cell_type": "markdown",
   "metadata": {},
   "source": [
    "AS the data is not scaled, using standardscaler to scale the data "
   ]
  },
  {
   "cell_type": "code",
   "execution_count": 12,
   "metadata": {},
   "outputs": [],
   "source": [
    "from sklearn.preprocessing import StandardScaler\n",
    "SC = StandardScaler()\n",
    "X_train = SC.fit_transform(X_train)\n",
    "X_test = SC.transform(X_test)"
   ]
  },
  {
   "cell_type": "code",
   "execution_count": 13,
   "metadata": {},
   "outputs": [
    {
     "data": {
      "text/plain": [
       "array([[-0.14023948, -0.25101328, -0.18310216, ..., -0.18994693,\n",
       "        -0.22915336, -0.24467575],\n",
       "       [-0.22538087,  0.08629972,  0.15311529, ..., -0.21656965,\n",
       "        -0.19858692,  0.09322297],\n",
       "       [ 0.4659532 ,  0.66989645,  0.15311529, ...,  0.68161765,\n",
       "         0.72490297,  0.67783309],\n",
       "       ...,\n",
       "       [-0.18416977, -0.37411736, -0.35942714, ..., -0.31671387,\n",
       "        -0.30797449, -0.36799359],\n",
       "       [-0.47596028, -0.43046335, -0.35942714, ..., -0.42246522,\n",
       "        -0.37673675, -0.42443742],\n",
       "       [ 1.1991863 ,  1.54529155,  0.4093865 , ...,  1.01555908,\n",
       "         1.19570174,  1.55474826]])"
      ]
     },
     "execution_count": 13,
     "metadata": {},
     "output_type": "execute_result"
    }
   ],
   "source": [
    "X_test"
   ]
  },
  {
   "cell_type": "markdown",
   "metadata": {},
   "source": [
    "Importing Logistic regression "
   ]
  },
  {
   "cell_type": "code",
   "execution_count": 14,
   "metadata": {},
   "outputs": [
    {
     "data": {
      "text/plain": [
       "LogisticRegression(random_state=0)"
      ]
     },
     "execution_count": 14,
     "metadata": {},
     "output_type": "execute_result"
    }
   ],
   "source": [
    "from sklearn.linear_model import LogisticRegression\n",
    "LR = LogisticRegression(random_state=0)\n",
    "LR.fit(X_train,y_train)"
   ]
  },
  {
   "cell_type": "markdown",
   "metadata": {},
   "source": [
    "predciting the y values for x test unding logistic regression"
   ]
  },
  {
   "cell_type": "code",
   "execution_count": 15,
   "metadata": {},
   "outputs": [],
   "source": [
    "LR_pred = LR.predict(X_test)"
   ]
  },
  {
   "cell_type": "code",
   "execution_count": 16,
   "metadata": {},
   "outputs": [
    {
     "data": {
      "text/plain": [
       "array(['yes', 'yes', 'yes', 'no', 'no', 'no', 'yes', 'yes', 'yes', 'yes',\n",
       "       'yes', 'no', 'no', 'yes', 'no', 'no', 'no', 'no', 'yes', 'yes',\n",
       "       'yes', 'no', 'no', 'yes', 'no', 'no', 'yes', 'yes', 'no', 'no',\n",
       "       'yes', 'no', 'yes', 'yes', 'no', 'yes', 'no', 'yes', 'no', 'no',\n",
       "       'no', 'no', 'no', 'yes', 'yes', 'yes', 'no', 'yes', 'no', 'yes',\n",
       "       'no', 'yes', 'yes', 'no', 'yes', 'no', 'no', 'no', 'yes', 'no',\n",
       "       'yes', 'no', 'no', 'yes', 'no', 'yes', 'no', 'yes', 'no', 'yes',\n",
       "       'no', 'yes', 'no', 'yes', 'no', 'yes', 'no', 'no', 'yes', 'no',\n",
       "       'no', 'no', 'no', 'yes', 'yes', 'no', 'no', 'no', 'no', 'no',\n",
       "       'yes', 'yes', 'no', 'no', 'no', 'yes', 'no', 'no', 'no', 'no',\n",
       "       'yes', 'yes', 'yes', 'no', 'yes', 'no', 'no', 'yes', 'no', 'no',\n",
       "       'yes', 'yes', 'yes', 'yes', 'no', 'no', 'no', 'no', 'no', 'yes',\n",
       "       'yes', 'no', 'no', 'no', 'no', 'no', 'no', 'yes', 'yes', 'no',\n",
       "       'yes', 'yes', 'no', 'no', 'no', 'no', 'no', 'yes', 'yes', 'yes',\n",
       "       'no', 'yes', 'yes', 'no', 'no', 'no', 'no', 'yes', 'no', 'no',\n",
       "       'no', 'yes', 'no', 'yes', 'yes', 'yes', 'yes', 'no', 'no', 'no',\n",
       "       'no', 'no', 'no', 'no', 'no', 'yes'], dtype=object)"
      ]
     },
     "execution_count": 16,
     "metadata": {},
     "output_type": "execute_result"
    }
   ],
   "source": [
    "LR_pred"
   ]
  },
  {
   "cell_type": "markdown",
   "metadata": {},
   "source": [
    "Evaluation metrics"
   ]
  },
  {
   "cell_type": "code",
   "execution_count": 17,
   "metadata": {},
   "outputs": [],
   "source": [
    "from sklearn.metrics import accuracy_score\n",
    "from sklearn.metrics import confusion_matrix\n",
    "from sklearn.metrics import f1_score\n",
    "from sklearn.metrics import roc_auc_score\n",
    "from sklearn.metrics import precision_score\n",
    "from sklearn.metrics import recall_score"
   ]
  },
  {
   "cell_type": "code",
   "execution_count": 18,
   "metadata": {},
   "outputs": [
    {
     "data": {
      "text/plain": [
       "array([[70, 11],\n",
       "       [26, 59]], dtype=int64)"
      ]
     },
     "execution_count": 18,
     "metadata": {},
     "output_type": "execute_result"
    }
   ],
   "source": [
    "CM = confusion_matrix(y_test,LR_pred)\n",
    "CM"
   ]
  },
  {
   "cell_type": "code",
   "execution_count": 19,
   "metadata": {},
   "outputs": [
    {
     "name": "stdout",
     "output_type": "stream",
     "text": [
      "Accuracy score: 0.7771084337349398\n",
      "F1_score: 0.7612903225806451\n",
      "precision_score: 0.8428571428571429\n",
      "recall_score: 0.6941176470588235\n"
     ]
    }
   ],
   "source": [
    "print('Accuracy score:',accuracy_score(y_test,LR_pred))\n",
    "print('F1_score:',f1_score(y_test,LR_pred, pos_label='yes'))\n",
    "print('precision_score:',precision_score(y_test,LR_pred, pos_label='yes'))\n",
    "print('recall_score:',recall_score(y_test,LR_pred, pos_label='yes'))"
   ]
  },
  {
   "cell_type": "code",
   "execution_count": null,
   "metadata": {
    "scrolled": true
   },
   "outputs": [],
   "source": []
  },
  {
   "cell_type": "code",
   "execution_count": null,
   "metadata": {},
   "outputs": [],
   "source": []
  },
  {
   "cell_type": "code",
   "execution_count": null,
   "metadata": {},
   "outputs": [],
   "source": []
  },
  {
   "cell_type": "code",
   "execution_count": null,
   "metadata": {},
   "outputs": [],
   "source": []
  },
  {
   "cell_type": "code",
   "execution_count": null,
   "metadata": {},
   "outputs": [],
   "source": []
  }
 ],
 "metadata": {
  "kernelspec": {
   "display_name": "Python 3",
   "language": "python",
   "name": "python3"
  },
  "language_info": {
   "codemirror_mode": {
    "name": "ipython",
    "version": 3
   },
   "file_extension": ".py",
   "mimetype": "text/x-python",
   "name": "python",
   "nbconvert_exporter": "python",
   "pygments_lexer": "ipython3",
   "version": "3.8.5"
  }
 },
 "nbformat": 4,
 "nbformat_minor": 4
}
