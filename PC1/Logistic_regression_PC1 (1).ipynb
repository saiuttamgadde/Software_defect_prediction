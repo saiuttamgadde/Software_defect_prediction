{
 "cells": [
  {
   "cell_type": "code",
   "execution_count": 3,
   "id": "acute-platinum",
   "metadata": {},
   "outputs": [],
   "source": [
    "import pandas as pd\n",
    "import numpy as np\n",
    "import matplotlib.pyplot as plt\n",
    "%matplotlib inline"
   ]
  },
  {
   "cell_type": "code",
   "execution_count": 4,
   "id": "absolute-confirmation",
   "metadata": {},
   "outputs": [],
   "source": [
    "data1= pd.read_csv('pc1.csv')"
   ]
  },
  {
   "cell_type": "code",
   "execution_count": 5,
   "id": "found-inclusion",
   "metadata": {},
   "outputs": [
    {
     "data": {
      "text/html": [
       "<div>\n",
       "<style scoped>\n",
       "    .dataframe tbody tr th:only-of-type {\n",
       "        vertical-align: middle;\n",
       "    }\n",
       "\n",
       "    .dataframe tbody tr th {\n",
       "        vertical-align: top;\n",
       "    }\n",
       "\n",
       "    .dataframe thead th {\n",
       "        text-align: right;\n",
       "    }\n",
       "</style>\n",
       "<table border=\"1\" class=\"dataframe\">\n",
       "  <thead>\n",
       "    <tr style=\"text-align: right;\">\n",
       "      <th></th>\n",
       "      <th>McCabe's line count of code</th>\n",
       "      <th>McCabe \"cyclomatic complexity”</th>\n",
       "      <th>McCabe \"essential complexity”</th>\n",
       "      <th>McCabe \"design complexity”</th>\n",
       "      <th>Halstead total operators + operands</th>\n",
       "      <th>Halstead \"volume”</th>\n",
       "      <th>Halstead \"program length”</th>\n",
       "      <th>Halstead \"difficulty”</th>\n",
       "      <th>Halstead \"intelligence”</th>\n",
       "      <th>Halstead \"effort”</th>\n",
       "      <th>...</th>\n",
       "      <th>Halstead's line count</th>\n",
       "      <th>Halstead's count of lines of comments</th>\n",
       "      <th>Halstead's count of blank</th>\n",
       "      <th>lineslOCodeAndComment</th>\n",
       "      <th>unique operators</th>\n",
       "      <th>unique operands</th>\n",
       "      <th>total operators</th>\n",
       "      <th>total operands</th>\n",
       "      <th>branchCount of the flow graph</th>\n",
       "      <th>defects</th>\n",
       "    </tr>\n",
       "  </thead>\n",
       "  <tbody>\n",
       "    <tr>\n",
       "      <th>0</th>\n",
       "      <td>1.1</td>\n",
       "      <td>1.4</td>\n",
       "      <td>1.4</td>\n",
       "      <td>1.4</td>\n",
       "      <td>1.3</td>\n",
       "      <td>1.30</td>\n",
       "      <td>1.30</td>\n",
       "      <td>1.30</td>\n",
       "      <td>1.30</td>\n",
       "      <td>1.30</td>\n",
       "      <td>...</td>\n",
       "      <td>2</td>\n",
       "      <td>2</td>\n",
       "      <td>2</td>\n",
       "      <td>2</td>\n",
       "      <td>1.2</td>\n",
       "      <td>1.2</td>\n",
       "      <td>1.2</td>\n",
       "      <td>1.2</td>\n",
       "      <td>1.4</td>\n",
       "      <td>False</td>\n",
       "    </tr>\n",
       "    <tr>\n",
       "      <th>1</th>\n",
       "      <td>1.0</td>\n",
       "      <td>1.0</td>\n",
       "      <td>1.0</td>\n",
       "      <td>1.0</td>\n",
       "      <td>1.0</td>\n",
       "      <td>1.00</td>\n",
       "      <td>1.00</td>\n",
       "      <td>1.00</td>\n",
       "      <td>1.00</td>\n",
       "      <td>1.00</td>\n",
       "      <td>...</td>\n",
       "      <td>1</td>\n",
       "      <td>1</td>\n",
       "      <td>1</td>\n",
       "      <td>1</td>\n",
       "      <td>1.0</td>\n",
       "      <td>1.0</td>\n",
       "      <td>1.0</td>\n",
       "      <td>1.0</td>\n",
       "      <td>1.0</td>\n",
       "      <td>True</td>\n",
       "    </tr>\n",
       "    <tr>\n",
       "      <th>2</th>\n",
       "      <td>91.0</td>\n",
       "      <td>9.0</td>\n",
       "      <td>3.0</td>\n",
       "      <td>2.0</td>\n",
       "      <td>318.0</td>\n",
       "      <td>2089.21</td>\n",
       "      <td>0.04</td>\n",
       "      <td>27.68</td>\n",
       "      <td>75.47</td>\n",
       "      <td>57833.24</td>\n",
       "      <td>...</td>\n",
       "      <td>80</td>\n",
       "      <td>44</td>\n",
       "      <td>11</td>\n",
       "      <td>31</td>\n",
       "      <td>29.0</td>\n",
       "      <td>66.0</td>\n",
       "      <td>192.0</td>\n",
       "      <td>126.0</td>\n",
       "      <td>17.0</td>\n",
       "      <td>True</td>\n",
       "    </tr>\n",
       "    <tr>\n",
       "      <th>3</th>\n",
       "      <td>109.0</td>\n",
       "      <td>21.0</td>\n",
       "      <td>5.0</td>\n",
       "      <td>18.0</td>\n",
       "      <td>381.0</td>\n",
       "      <td>2547.56</td>\n",
       "      <td>0.04</td>\n",
       "      <td>28.37</td>\n",
       "      <td>89.79</td>\n",
       "      <td>72282.68</td>\n",
       "      <td>...</td>\n",
       "      <td>97</td>\n",
       "      <td>41</td>\n",
       "      <td>12</td>\n",
       "      <td>24</td>\n",
       "      <td>28.0</td>\n",
       "      <td>75.0</td>\n",
       "      <td>229.0</td>\n",
       "      <td>152.0</td>\n",
       "      <td>38.0</td>\n",
       "      <td>True</td>\n",
       "    </tr>\n",
       "    <tr>\n",
       "      <th>4</th>\n",
       "      <td>505.0</td>\n",
       "      <td>106.0</td>\n",
       "      <td>41.0</td>\n",
       "      <td>82.0</td>\n",
       "      <td>2339.0</td>\n",
       "      <td>20696.93</td>\n",
       "      <td>0.01</td>\n",
       "      <td>75.93</td>\n",
       "      <td>272.58</td>\n",
       "      <td>1571506.88</td>\n",
       "      <td>...</td>\n",
       "      <td>457</td>\n",
       "      <td>71</td>\n",
       "      <td>48</td>\n",
       "      <td>49</td>\n",
       "      <td>64.0</td>\n",
       "      <td>397.0</td>\n",
       "      <td>1397.0</td>\n",
       "      <td>942.0</td>\n",
       "      <td>178.0</td>\n",
       "      <td>True</td>\n",
       "    </tr>\n",
       "  </tbody>\n",
       "</table>\n",
       "<p>5 rows × 22 columns</p>\n",
       "</div>"
      ],
      "text/plain": [
       "   McCabe's line count of code  McCabe \"cyclomatic complexity”  \\\n",
       "0                          1.1                             1.4   \n",
       "1                          1.0                             1.0   \n",
       "2                         91.0                             9.0   \n",
       "3                        109.0                            21.0   \n",
       "4                        505.0                           106.0   \n",
       "\n",
       "   McCabe \"essential complexity”  McCabe \"design complexity”  \\\n",
       "0                            1.4                         1.4   \n",
       "1                            1.0                         1.0   \n",
       "2                            3.0                         2.0   \n",
       "3                            5.0                        18.0   \n",
       "4                           41.0                        82.0   \n",
       "\n",
       "   Halstead total operators + operands  Halstead \"volume”  \\\n",
       "0                                  1.3               1.30   \n",
       "1                                  1.0               1.00   \n",
       "2                                318.0            2089.21   \n",
       "3                                381.0            2547.56   \n",
       "4                               2339.0           20696.93   \n",
       "\n",
       "   Halstead \"program length”  Halstead \"difficulty”  Halstead \"intelligence”  \\\n",
       "0                       1.30                   1.30                     1.30   \n",
       "1                       1.00                   1.00                     1.00   \n",
       "2                       0.04                  27.68                    75.47   \n",
       "3                       0.04                  28.37                    89.79   \n",
       "4                       0.01                  75.93                   272.58   \n",
       "\n",
       "   Halstead \"effort”  ...  Halstead's line count  \\\n",
       "0               1.30  ...                      2   \n",
       "1               1.00  ...                      1   \n",
       "2           57833.24  ...                     80   \n",
       "3           72282.68  ...                     97   \n",
       "4         1571506.88  ...                    457   \n",
       "\n",
       "   Halstead's count of lines of comments  Halstead's count of blank  \\\n",
       "0                                      2                          2   \n",
       "1                                      1                          1   \n",
       "2                                     44                         11   \n",
       "3                                     41                         12   \n",
       "4                                     71                         48   \n",
       "\n",
       "   lineslOCodeAndComment  unique operators  unique operands  total operators  \\\n",
       "0                      2               1.2              1.2              1.2   \n",
       "1                      1               1.0              1.0              1.0   \n",
       "2                     31              29.0             66.0            192.0   \n",
       "3                     24              28.0             75.0            229.0   \n",
       "4                     49              64.0            397.0           1397.0   \n",
       "\n",
       "   total operands  branchCount of the flow graph  defects  \n",
       "0             1.2                            1.4    False  \n",
       "1             1.0                            1.0     True  \n",
       "2           126.0                           17.0     True  \n",
       "3           152.0                           38.0     True  \n",
       "4           942.0                          178.0     True  \n",
       "\n",
       "[5 rows x 22 columns]"
      ]
     },
     "execution_count": 5,
     "metadata": {},
     "output_type": "execute_result"
    }
   ],
   "source": [
    "data1.head()"
   ]
  },
  {
   "cell_type": "code",
   "execution_count": 6,
   "id": "enhanced-telling",
   "metadata": {},
   "outputs": [],
   "source": [
    "data1.defects=data1['defects']*1  "
   ]
  },
  {
   "cell_type": "code",
   "execution_count": 7,
   "id": "internal-multiple",
   "metadata": {},
   "outputs": [
    {
     "data": {
      "text/plain": [
       "0    0\n",
       "1    1\n",
       "2    1\n",
       "3    1\n",
       "4    1\n",
       "Name: defects, dtype: int32"
      ]
     },
     "execution_count": 7,
     "metadata": {},
     "output_type": "execute_result"
    }
   ],
   "source": [
    "data1['defects'].head()"
   ]
  },
  {
   "cell_type": "code",
   "execution_count": 8,
   "id": "surprising-undergraduate",
   "metadata": {},
   "outputs": [],
   "source": [
    "X = data1.iloc[:,:-1]\n",
    "y = data1.iloc[:,-1]"
   ]
  },
  {
   "cell_type": "code",
   "execution_count": 9,
   "id": "adverse-palestinian",
   "metadata": {},
   "outputs": [
    {
     "data": {
      "text/html": [
       "<div>\n",
       "<style scoped>\n",
       "    .dataframe tbody tr th:only-of-type {\n",
       "        vertical-align: middle;\n",
       "    }\n",
       "\n",
       "    .dataframe tbody tr th {\n",
       "        vertical-align: top;\n",
       "    }\n",
       "\n",
       "    .dataframe thead th {\n",
       "        text-align: right;\n",
       "    }\n",
       "</style>\n",
       "<table border=\"1\" class=\"dataframe\">\n",
       "  <thead>\n",
       "    <tr style=\"text-align: right;\">\n",
       "      <th></th>\n",
       "      <th>McCabe's line count of code</th>\n",
       "      <th>McCabe \"cyclomatic complexity”</th>\n",
       "      <th>McCabe \"essential complexity”</th>\n",
       "      <th>McCabe \"design complexity”</th>\n",
       "      <th>Halstead total operators + operands</th>\n",
       "      <th>Halstead \"volume”</th>\n",
       "      <th>Halstead \"program length”</th>\n",
       "      <th>Halstead \"difficulty”</th>\n",
       "      <th>Halstead \"intelligence”</th>\n",
       "      <th>Halstead \"effort”</th>\n",
       "      <th>...</th>\n",
       "      <th>Halstead's time estimator</th>\n",
       "      <th>Halstead's line count</th>\n",
       "      <th>Halstead's count of lines of comments</th>\n",
       "      <th>Halstead's count of blank</th>\n",
       "      <th>lineslOCodeAndComment</th>\n",
       "      <th>unique operators</th>\n",
       "      <th>unique operands</th>\n",
       "      <th>total operators</th>\n",
       "      <th>total operands</th>\n",
       "      <th>branchCount of the flow graph</th>\n",
       "    </tr>\n",
       "  </thead>\n",
       "  <tbody>\n",
       "    <tr>\n",
       "      <th>0</th>\n",
       "      <td>1.1</td>\n",
       "      <td>1.4</td>\n",
       "      <td>1.4</td>\n",
       "      <td>1.4</td>\n",
       "      <td>1.3</td>\n",
       "      <td>1.30</td>\n",
       "      <td>1.30</td>\n",
       "      <td>1.30</td>\n",
       "      <td>1.30</td>\n",
       "      <td>1.30</td>\n",
       "      <td>...</td>\n",
       "      <td>1.30</td>\n",
       "      <td>2</td>\n",
       "      <td>2</td>\n",
       "      <td>2</td>\n",
       "      <td>2</td>\n",
       "      <td>1.2</td>\n",
       "      <td>1.2</td>\n",
       "      <td>1.2</td>\n",
       "      <td>1.2</td>\n",
       "      <td>1.4</td>\n",
       "    </tr>\n",
       "    <tr>\n",
       "      <th>1</th>\n",
       "      <td>1.0</td>\n",
       "      <td>1.0</td>\n",
       "      <td>1.0</td>\n",
       "      <td>1.0</td>\n",
       "      <td>1.0</td>\n",
       "      <td>1.00</td>\n",
       "      <td>1.00</td>\n",
       "      <td>1.00</td>\n",
       "      <td>1.00</td>\n",
       "      <td>1.00</td>\n",
       "      <td>...</td>\n",
       "      <td>1.00</td>\n",
       "      <td>1</td>\n",
       "      <td>1</td>\n",
       "      <td>1</td>\n",
       "      <td>1</td>\n",
       "      <td>1.0</td>\n",
       "      <td>1.0</td>\n",
       "      <td>1.0</td>\n",
       "      <td>1.0</td>\n",
       "      <td>1.0</td>\n",
       "    </tr>\n",
       "    <tr>\n",
       "      <th>2</th>\n",
       "      <td>91.0</td>\n",
       "      <td>9.0</td>\n",
       "      <td>3.0</td>\n",
       "      <td>2.0</td>\n",
       "      <td>318.0</td>\n",
       "      <td>2089.21</td>\n",
       "      <td>0.04</td>\n",
       "      <td>27.68</td>\n",
       "      <td>75.47</td>\n",
       "      <td>57833.24</td>\n",
       "      <td>...</td>\n",
       "      <td>3212.96</td>\n",
       "      <td>80</td>\n",
       "      <td>44</td>\n",
       "      <td>11</td>\n",
       "      <td>31</td>\n",
       "      <td>29.0</td>\n",
       "      <td>66.0</td>\n",
       "      <td>192.0</td>\n",
       "      <td>126.0</td>\n",
       "      <td>17.0</td>\n",
       "    </tr>\n",
       "    <tr>\n",
       "      <th>3</th>\n",
       "      <td>109.0</td>\n",
       "      <td>21.0</td>\n",
       "      <td>5.0</td>\n",
       "      <td>18.0</td>\n",
       "      <td>381.0</td>\n",
       "      <td>2547.56</td>\n",
       "      <td>0.04</td>\n",
       "      <td>28.37</td>\n",
       "      <td>89.79</td>\n",
       "      <td>72282.68</td>\n",
       "      <td>...</td>\n",
       "      <td>4015.70</td>\n",
       "      <td>97</td>\n",
       "      <td>41</td>\n",
       "      <td>12</td>\n",
       "      <td>24</td>\n",
       "      <td>28.0</td>\n",
       "      <td>75.0</td>\n",
       "      <td>229.0</td>\n",
       "      <td>152.0</td>\n",
       "      <td>38.0</td>\n",
       "    </tr>\n",
       "    <tr>\n",
       "      <th>4</th>\n",
       "      <td>505.0</td>\n",
       "      <td>106.0</td>\n",
       "      <td>41.0</td>\n",
       "      <td>82.0</td>\n",
       "      <td>2339.0</td>\n",
       "      <td>20696.93</td>\n",
       "      <td>0.01</td>\n",
       "      <td>75.93</td>\n",
       "      <td>272.58</td>\n",
       "      <td>1571506.88</td>\n",
       "      <td>...</td>\n",
       "      <td>87305.94</td>\n",
       "      <td>457</td>\n",
       "      <td>71</td>\n",
       "      <td>48</td>\n",
       "      <td>49</td>\n",
       "      <td>64.0</td>\n",
       "      <td>397.0</td>\n",
       "      <td>1397.0</td>\n",
       "      <td>942.0</td>\n",
       "      <td>178.0</td>\n",
       "    </tr>\n",
       "  </tbody>\n",
       "</table>\n",
       "<p>5 rows × 21 columns</p>\n",
       "</div>"
      ],
      "text/plain": [
       "   McCabe's line count of code  McCabe \"cyclomatic complexity”  \\\n",
       "0                          1.1                             1.4   \n",
       "1                          1.0                             1.0   \n",
       "2                         91.0                             9.0   \n",
       "3                        109.0                            21.0   \n",
       "4                        505.0                           106.0   \n",
       "\n",
       "   McCabe \"essential complexity”  McCabe \"design complexity”  \\\n",
       "0                            1.4                         1.4   \n",
       "1                            1.0                         1.0   \n",
       "2                            3.0                         2.0   \n",
       "3                            5.0                        18.0   \n",
       "4                           41.0                        82.0   \n",
       "\n",
       "   Halstead total operators + operands  Halstead \"volume”  \\\n",
       "0                                  1.3               1.30   \n",
       "1                                  1.0               1.00   \n",
       "2                                318.0            2089.21   \n",
       "3                                381.0            2547.56   \n",
       "4                               2339.0           20696.93   \n",
       "\n",
       "   Halstead \"program length”  Halstead \"difficulty”  Halstead \"intelligence”  \\\n",
       "0                       1.30                   1.30                     1.30   \n",
       "1                       1.00                   1.00                     1.00   \n",
       "2                       0.04                  27.68                    75.47   \n",
       "3                       0.04                  28.37                    89.79   \n",
       "4                       0.01                  75.93                   272.58   \n",
       "\n",
       "   Halstead \"effort”  ...  Halstead's time estimator  Halstead's line count  \\\n",
       "0               1.30  ...                       1.30                      2   \n",
       "1               1.00  ...                       1.00                      1   \n",
       "2           57833.24  ...                    3212.96                     80   \n",
       "3           72282.68  ...                    4015.70                     97   \n",
       "4         1571506.88  ...                   87305.94                    457   \n",
       "\n",
       "   Halstead's count of lines of comments  Halstead's count of blank  \\\n",
       "0                                      2                          2   \n",
       "1                                      1                          1   \n",
       "2                                     44                         11   \n",
       "3                                     41                         12   \n",
       "4                                     71                         48   \n",
       "\n",
       "   lineslOCodeAndComment  unique operators  unique operands  total operators  \\\n",
       "0                      2               1.2              1.2              1.2   \n",
       "1                      1               1.0              1.0              1.0   \n",
       "2                     31              29.0             66.0            192.0   \n",
       "3                     24              28.0             75.0            229.0   \n",
       "4                     49              64.0            397.0           1397.0   \n",
       "\n",
       "   total operands  branchCount of the flow graph  \n",
       "0             1.2                            1.4  \n",
       "1             1.0                            1.0  \n",
       "2           126.0                           17.0  \n",
       "3           152.0                           38.0  \n",
       "4           942.0                          178.0  \n",
       "\n",
       "[5 rows x 21 columns]"
      ]
     },
     "execution_count": 9,
     "metadata": {},
     "output_type": "execute_result"
    }
   ],
   "source": [
    "X.head()"
   ]
  },
  {
   "cell_type": "code",
   "execution_count": 10,
   "id": "liberal-entrepreneur",
   "metadata": {},
   "outputs": [
    {
     "data": {
      "text/plain": [
       "0    0\n",
       "1    1\n",
       "2    1\n",
       "3    1\n",
       "4    1\n",
       "Name: defects, dtype: int32"
      ]
     },
     "execution_count": 10,
     "metadata": {},
     "output_type": "execute_result"
    }
   ],
   "source": [
    "y.head()"
   ]
  },
  {
   "cell_type": "code",
   "execution_count": 11,
   "id": "ideal-voltage",
   "metadata": {},
   "outputs": [
    {
     "data": {
      "text/plain": [
       "0    1032\n",
       "1      77\n",
       "Name: defects, dtype: int64"
      ]
     },
     "execution_count": 11,
     "metadata": {},
     "output_type": "execute_result"
    }
   ],
   "source": [
    "y.value_counts()"
   ]
  },
  {
   "cell_type": "code",
   "execution_count": 12,
   "id": "lovely-organic",
   "metadata": {},
   "outputs": [],
   "source": [
    "from imblearn.over_sampling import SMOTE\n",
    "smote = SMOTE(sampling_strategy='minority')\n",
    "X_sm , y_sm = smote.fit_resample(X,y)"
   ]
  },
  {
   "cell_type": "code",
   "execution_count": 13,
   "id": "lucky-trademark",
   "metadata": {},
   "outputs": [
    {
     "data": {
      "text/plain": [
       "0    1032\n",
       "1    1032\n",
       "Name: defects, dtype: int64"
      ]
     },
     "execution_count": 13,
     "metadata": {},
     "output_type": "execute_result"
    }
   ],
   "source": [
    "y_sm.value_counts()"
   ]
  },
  {
   "cell_type": "code",
   "execution_count": 14,
   "id": "seeing-sharp",
   "metadata": {},
   "outputs": [],
   "source": [
    "from sklearn.model_selection import train_test_split\n",
    "X_train,X_test,y_train,y_test = train_test_split(X_sm,y_sm,test_size=0.2,random_state=0)"
   ]
  },
  {
   "cell_type": "code",
   "execution_count": 15,
   "id": "certified-documentary",
   "metadata": {},
   "outputs": [],
   "source": [
    "from sklearn.preprocessing import StandardScaler\n",
    "SC = StandardScaler()\n",
    "X_train = SC.fit_transform(X_train)\n",
    "X_test = SC.transform(X_test)"
   ]
  },
  {
   "cell_type": "code",
   "execution_count": 16,
   "id": "positive-chancellor",
   "metadata": {},
   "outputs": [
    {
     "data": {
      "text/plain": [
       "array([[-0.3765779 , -0.35084401, -0.28947509, ..., -0.40399208,\n",
       "        -0.41555149, -0.35847618],\n",
       "       [ 1.54216908,  1.22703718,  0.8377442 , ...,  1.42504295,\n",
       "         1.59119523,  1.06293343],\n",
       "       [ 0.37811681, -0.12766302, -0.28947509, ...,  0.21092981,\n",
       "         0.31050315, -0.10562032],\n",
       "       ...,\n",
       "       [-0.52109391, -0.35084401, -0.07514729, ..., -0.4815498 ,\n",
       "        -0.55028328, -0.35847618],\n",
       "       [-0.56926591, -0.49963133, -0.28947509, ..., -0.57018719,\n",
       "        -0.58770878, -0.52704675],\n",
       "       [-0.4247499 , -0.42523767, -0.28947509, ..., -0.45385061,\n",
       "        -0.44549189, -0.44276146]])"
      ]
     },
     "execution_count": 16,
     "metadata": {},
     "output_type": "execute_result"
    }
   ],
   "source": [
    "X_test"
   ]
  },
  {
   "cell_type": "code",
   "execution_count": 17,
   "id": "broke-cholesterol",
   "metadata": {},
   "outputs": [
    {
     "data": {
      "text/plain": [
       "LogisticRegression(random_state=0)"
      ]
     },
     "execution_count": 17,
     "metadata": {},
     "output_type": "execute_result"
    }
   ],
   "source": [
    "from sklearn.linear_model import LogisticRegression\n",
    "LR = LogisticRegression(random_state=0)\n",
    "LR.fit(X_train,y_train)"
   ]
  },
  {
   "cell_type": "code",
   "execution_count": 18,
   "id": "sapphire-warning",
   "metadata": {},
   "outputs": [],
   "source": [
    "LR_pred = LR.predict(X_test)"
   ]
  },
  {
   "cell_type": "code",
   "execution_count": 19,
   "id": "colored-working",
   "metadata": {},
   "outputs": [
    {
     "data": {
      "text/plain": [
       "array([0, 1, 1, 0, 0, 0, 1, 0, 0, 1, 1, 1, 0, 1, 1, 1, 0, 1, 1, 1, 1, 0,\n",
       "       0, 0, 1, 1, 0, 1, 1, 1, 1, 0, 1, 0, 0, 1, 1, 0, 1, 1, 0, 0, 1, 0,\n",
       "       0, 0, 1, 0, 1, 1, 0, 0, 0, 0, 0, 1, 0, 1, 0, 1, 0, 1, 0, 0, 0, 1,\n",
       "       0, 1, 1, 1, 0, 1, 0, 1, 0, 1, 1, 0, 1, 0, 0, 0, 1, 1, 1, 1, 0, 1,\n",
       "       1, 0, 1, 0, 1, 0, 1, 1, 0, 0, 1, 0, 1, 0, 1, 0, 0, 1, 0, 0, 1, 0,\n",
       "       1, 0, 1, 1, 1, 1, 1, 1, 1, 1, 1, 0, 0, 0, 1, 1, 1, 1, 1, 0, 1, 1,\n",
       "       1, 0, 1, 1, 0, 1, 0, 1, 0, 0, 0, 1, 0, 0, 0, 0, 1, 0, 0, 0, 1, 0,\n",
       "       0, 0, 0, 0, 1, 1, 1, 0, 1, 0, 1, 0, 0, 0, 0, 0, 1, 0, 0, 1, 0, 1,\n",
       "       1, 1, 1, 0, 0, 1, 1, 1, 0, 1, 1, 1, 1, 0, 1, 1, 1, 0, 0, 1, 0, 1,\n",
       "       1, 1, 0, 0, 1, 0, 1, 0, 1, 1, 1, 1, 0, 1, 1, 0, 0, 1, 1, 1, 0, 1,\n",
       "       0, 1, 0, 0, 1, 1, 1, 0, 0, 1, 0, 0, 1, 0, 0, 1, 0, 0, 1, 1, 0, 0,\n",
       "       1, 0, 1, 0, 1, 0, 1, 0, 0, 0, 0, 1, 0, 0, 0, 0, 1, 1, 1, 1, 0, 1,\n",
       "       1, 1, 0, 0, 1, 0, 0, 0, 0, 0, 0, 0, 0, 1, 1, 0, 0, 0, 1, 0, 0, 1,\n",
       "       1, 0, 1, 1, 0, 1, 0, 0, 0, 0, 0, 0, 0, 1, 0, 0, 0, 0, 0, 0, 0, 1,\n",
       "       0, 1, 1, 0, 1, 0, 0, 1, 1, 0, 1, 0, 0, 1, 0, 0, 1, 0, 1, 0, 0, 1,\n",
       "       0, 0, 1, 1, 1, 1, 0, 1, 0, 0, 0, 0, 0, 0, 1, 0, 1, 1, 1, 1, 0, 0,\n",
       "       1, 0, 1, 1, 1, 1, 1, 0, 1, 0, 0, 0, 0, 1, 0, 1, 1, 1, 0, 0, 1, 1,\n",
       "       1, 0, 0, 1, 0, 0, 1, 1, 1, 1, 1, 1, 1, 0, 0, 1, 1, 1, 1, 0, 0, 1,\n",
       "       0, 0, 0, 1, 0, 1, 1, 1, 0, 1, 1, 1, 1, 0, 0, 1, 0])"
      ]
     },
     "execution_count": 19,
     "metadata": {},
     "output_type": "execute_result"
    }
   ],
   "source": [
    "LR_pred\n"
   ]
  },
  {
   "cell_type": "code",
   "execution_count": 20,
   "id": "instructional-developer",
   "metadata": {},
   "outputs": [],
   "source": [
    "from sklearn.metrics import accuracy_score\n",
    "from sklearn.metrics import confusion_matrix\n",
    "from sklearn.metrics import f1_score\n",
    "from sklearn.metrics import roc_auc_score\n",
    "from sklearn.metrics import precision_score\n",
    "from sklearn.metrics import recall_score"
   ]
  },
  {
   "cell_type": "code",
   "execution_count": 21,
   "id": "offensive-bleeding",
   "metadata": {},
   "outputs": [
    {
     "data": {
      "text/plain": [
       "array([[162,  36],\n",
       "       [ 45, 170]], dtype=int64)"
      ]
     },
     "execution_count": 21,
     "metadata": {},
     "output_type": "execute_result"
    }
   ],
   "source": [
    "CM = confusion_matrix(y_test,LR_pred)\n",
    "CM"
   ]
  },
  {
   "cell_type": "code",
   "execution_count": 22,
   "id": "declared-methodology",
   "metadata": {},
   "outputs": [
    {
     "name": "stdout",
     "output_type": "stream",
     "text": [
      "Accuracy score: 0.8038740920096852\n",
      "F1_score: 0.8076009501187648\n",
      "precision_score: 0.8252427184466019\n",
      "recall_score: 0.7906976744186046\n"
     ]
    }
   ],
   "source": [
    "print('Accuracy score:',accuracy_score(y_test,LR_pred))\n",
    "print('F1_score:',f1_score(y_test,LR_pred))\n",
    "print('precision_score:',precision_score(y_test,LR_pred))\n",
    "print('recall_score:',recall_score(y_test,LR_pred))"
   ]
  },
  {
   "cell_type": "code",
   "execution_count": null,
   "id": "utility-association",
   "metadata": {},
   "outputs": [],
   "source": []
  }
 ],
 "metadata": {
  "kernelspec": {
   "display_name": "Python 3",
   "language": "python",
   "name": "python3"
  },
  "language_info": {
   "codemirror_mode": {
    "name": "ipython",
    "version": 3
   },
   "file_extension": ".py",
   "mimetype": "text/x-python",
   "name": "python",
   "nbconvert_exporter": "python",
   "pygments_lexer": "ipython3",
   "version": "3.9.2"
  }
 },
 "nbformat": 4,
 "nbformat_minor": 5
}
